{
 "cells": [
  {
   "cell_type": "code",
   "execution_count": 1,
   "metadata": {},
   "outputs": [],
   "source": [
    "#import sys\n",
    "#sys.path.append(r\"C:\\Users\\dppat\\Pictures\\VLSI Specialization\\6t\")\n",
    "from ngspicedata import *\n",
    "from pylab import *\n",
    "import matplotlib.pyplot as plt"
   ]
  },
  {
   "cell_type": "code",
   "execution_count": 2,
   "metadata": {},
   "outputs": [
    {
     "ename": "OSError",
     "evalue": "exception: access violation reading 0x0000000000000000",
     "output_type": "error",
     "traceback": [
      "\u001b[1;31m---------------------------------------------------------------------------\u001b[0m",
      "\u001b[1;31mOSError\u001b[0m                                   Traceback (most recent call last)",
      "\u001b[1;32m<ipython-input-2-17c4125053dc>\u001b[0m in \u001b[0;36m<module>\u001b[1;34m\u001b[0m\n\u001b[0;32m      1\u001b[0m \u001b[1;31m# Library NOM ************************************************\u001b[0m\u001b[1;33m\u001b[0m\u001b[1;33m\u001b[0m\u001b[1;33m\u001b[0m\u001b[0m\n\u001b[0;32m      2\u001b[0m \u001b[0mnom_40\u001b[0m\u001b[1;33m=\u001b[0m\u001b[0mNgspiceData\u001b[0m\u001b[1;33m(\u001b[0m\u001b[1;34m\"nom_40.raw\"\u001b[0m\u001b[1;33m)\u001b[0m\u001b[1;33m\u001b[0m\u001b[1;33m\u001b[0m\u001b[0m\n\u001b[1;32m----> 3\u001b[1;33m \u001b[0my_nom_40_1\u001b[0m \u001b[1;33m=\u001b[0m \u001b[0mnom_40\u001b[0m\u001b[1;33m.\u001b[0m\u001b[0mevalsig\u001b[0m\u001b[1;33m(\u001b[0m\u001b[1;34m'qbar1'\u001b[0m\u001b[1;33m)\u001b[0m\u001b[1;33m\u001b[0m\u001b[1;33m\u001b[0m\u001b[0m\n\u001b[0m\u001b[0;32m      4\u001b[0m \u001b[0mx_nom_40_1\u001b[0m \u001b[1;33m=\u001b[0m \u001b[0mnom_40\u001b[0m\u001b[1;33m.\u001b[0m\u001b[0mevalsig\u001b[0m\u001b[1;33m(\u001b[0m\u001b[1;34m'q1'\u001b[0m\u001b[1;33m)\u001b[0m\u001b[1;33m\u001b[0m\u001b[1;33m\u001b[0m\u001b[0m\n\u001b[0;32m      5\u001b[0m \u001b[0my_nom_40_2\u001b[0m \u001b[1;33m=\u001b[0m \u001b[0mnom_40\u001b[0m\u001b[1;33m.\u001b[0m\u001b[0mevalsig\u001b[0m\u001b[1;33m(\u001b[0m\u001b[1;34m'qbar2'\u001b[0m\u001b[1;33m)\u001b[0m\u001b[1;33m\u001b[0m\u001b[1;33m\u001b[0m\u001b[0m\n",
      "\u001b[1;32m~\\Pictures\\VLSI Specialization\\9t\\ngspicedata.py\u001b[0m in \u001b[0;36mevalsig\u001b[1;34m(self, sig_name)\u001b[0m\n\u001b[0;32m     99\u001b[0m            \u001b[0merror_flag\u001b[0m \u001b[1;33m=\u001b[0m \u001b[0mself\u001b[0m\u001b[1;33m.\u001b[0m\u001b[0mngspicedata_lib\u001b[0m\u001b[1;33m.\u001b[0m\u001b[0mevalsig_complex\u001b[0m\u001b[1;33m(\u001b[0m\u001b[0mct\u001b[0m\u001b[1;33m.\u001b[0m\u001b[0mbyref\u001b[0m\u001b[1;33m(\u001b[0m\u001b[0mself\u001b[0m\u001b[1;33m.\u001b[0m\u001b[0mstorage_info\u001b[0m\u001b[1;33m)\u001b[0m\u001b[1;33m,\u001b[0m \u001b[0msig_name\u001b[0m\u001b[1;33m,\u001b[0m \u001b[0msig_data\u001b[0m\u001b[1;33m.\u001b[0m\u001b[0mctypes\u001b[0m\u001b[1;33m.\u001b[0m\u001b[0mdata_as\u001b[0m\u001b[1;33m(\u001b[0m\u001b[0mct\u001b[0m\u001b[1;33m.\u001b[0m\u001b[0mPOINTER\u001b[0m\u001b[1;33m(\u001b[0m\u001b[0mct\u001b[0m\u001b[1;33m.\u001b[0m\u001b[0mc_double\u001b[0m\u001b[1;33m)\u001b[0m\u001b[1;33m)\u001b[0m\u001b[1;33m,\u001b[0m\u001b[0msig_data_imag\u001b[0m\u001b[1;33m.\u001b[0m\u001b[0mctypes\u001b[0m\u001b[1;33m.\u001b[0m\u001b[0mdata_as\u001b[0m\u001b[1;33m(\u001b[0m\u001b[0mct\u001b[0m\u001b[1;33m.\u001b[0m\u001b[0mPOINTER\u001b[0m\u001b[1;33m(\u001b[0m\u001b[0mct\u001b[0m\u001b[1;33m.\u001b[0m\u001b[0mc_double\u001b[0m\u001b[1;33m)\u001b[0m\u001b[1;33m)\u001b[0m\u001b[1;33m,\u001b[0m\u001b[0mself\u001b[0m\u001b[1;33m.\u001b[0m\u001b[0merr_msg\u001b[0m\u001b[1;33m)\u001b[0m\u001b[1;33m\u001b[0m\u001b[1;33m\u001b[0m\u001b[0m\n\u001b[0;32m    100\u001b[0m        \u001b[1;32melse\u001b[0m\u001b[1;33m:\u001b[0m\u001b[1;33m\u001b[0m\u001b[1;33m\u001b[0m\u001b[0m\n\u001b[1;32m--> 101\u001b[1;33m            \u001b[0merror_flag\u001b[0m \u001b[1;33m=\u001b[0m \u001b[0mself\u001b[0m\u001b[1;33m.\u001b[0m\u001b[0mngspicedata_lib\u001b[0m\u001b[1;33m.\u001b[0m\u001b[0mevalsig\u001b[0m\u001b[1;33m(\u001b[0m\u001b[0mct\u001b[0m\u001b[1;33m.\u001b[0m\u001b[0mbyref\u001b[0m\u001b[1;33m(\u001b[0m\u001b[0mself\u001b[0m\u001b[1;33m.\u001b[0m\u001b[0mstorage_info\u001b[0m\u001b[1;33m)\u001b[0m\u001b[1;33m,\u001b[0m \u001b[0msig_name\u001b[0m\u001b[1;33m,\u001b[0m \u001b[0msig_data\u001b[0m\u001b[1;33m.\u001b[0m\u001b[0mctypes\u001b[0m\u001b[1;33m.\u001b[0m\u001b[0mdata_as\u001b[0m\u001b[1;33m(\u001b[0m\u001b[0mct\u001b[0m\u001b[1;33m.\u001b[0m\u001b[0mPOINTER\u001b[0m\u001b[1;33m(\u001b[0m\u001b[0mct\u001b[0m\u001b[1;33m.\u001b[0m\u001b[0mc_double\u001b[0m\u001b[1;33m)\u001b[0m\u001b[1;33m)\u001b[0m\u001b[1;33m,\u001b[0m\u001b[0mself\u001b[0m\u001b[1;33m.\u001b[0m\u001b[0merr_msg\u001b[0m\u001b[1;33m)\u001b[0m\u001b[1;33m\u001b[0m\u001b[1;33m\u001b[0m\u001b[0m\n\u001b[0m\u001b[0;32m    102\u001b[0m \u001b[1;33m\u001b[0m\u001b[0m\n\u001b[0;32m    103\u001b[0m        \u001b[1;32mif\u001b[0m \u001b[0merror_flag\u001b[0m \u001b[1;33m==\u001b[0m \u001b[1;36m1\u001b[0m\u001b[1;33m:\u001b[0m\u001b[1;33m\u001b[0m\u001b[1;33m\u001b[0m\u001b[0m\n",
      "\u001b[1;31mOSError\u001b[0m: exception: access violation reading 0x0000000000000000"
     ]
    }
   ],
   "source": [
    "\n",
    "\n",
    "# Library NOM ************************************************\n",
    "nom_40=NgspiceData(\"nom_40.raw\")\n",
    "y_nom_40_1 = nom_40.evalsig('qbar1')\n",
    "x_nom_40_1 = nom_40.evalsig('q1')\n",
    "y_nom_40_2 = nom_40.evalsig('qbar2')\n",
    "x_nom_40_2 = nom_40.evalsig('q2')\n",
    "#*********************************\n",
    "nom_25=NgspiceData(\"nom_25.raw\")\n",
    "y_nom_25_1 = nom_25.evalsig('qbar1')\n",
    "x_nom_25_1 = nom_25.evalsig('q1')\n",
    "y_nom_25_2 = nom_25.evalsig('qbar2')\n",
    "x_nom_25_2 = nom_25.evalsig('q2')\n",
    "#**********************************\n",
    "nom_105=NgspiceData(\"nom_105.raw\")\n",
    "y_nom_105_1 = nom_105.evalsig('qbar1')\n",
    "x_nom_105_1 = nom_105.evalsig('q1')\n",
    "y_nom_105_2 = nom_105.evalsig('qbar2')\n",
    "x_nom_105_2 = nom_105.evalsig('q2')\n",
    "\n",
    "# Library FF  ****************************************************\n",
    "ff_40=NgspiceData(\"ff_40.raw\")\n",
    "y_ff_40_1 = ff_40.evalsig('qbar1')\n",
    "x_ff_40_1 = ff_40.evalsig('q1')\n",
    "y_ff_40_2 = ff_40.evalsig('qbar2')\n",
    "x_ff_40_2 = ff_40.evalsig('q2')\n",
    "#*********************************\n",
    "ff_25=NgspiceData(\"ff_25.raw\")\n",
    "y_ff_25_1 = ff_25.evalsig('qbar1')\n",
    "x_ff_25_1 = ff_25.evalsig('q1')\n",
    "y_ff_25_2 = ff_25.evalsig('qbar2')\n",
    "x_ff_25_2 = ff_25.evalsig('q2')\n",
    "#**********************************\n",
    "ff_105=NgspiceData(\"ff_105.raw\")\n",
    "y_ff_105_1 = ff_105.evalsig('qbar1')\n",
    "x_ff_105_1 = ff_105.evalsig('q1')\n",
    "y_ff_105_2 = ff_105.evalsig('qbar2')\n",
    "x_ff_105_2 = ff_105.evalsig('q2')\n",
    "\n",
    "# Library SS *************************************************\n",
    "ss_40=NgspiceData(\"ss_40.raw\")\n",
    "y_ss_40_1 = ss_40.evalsig('qbar1')\n",
    "x_ss_40_1 = ss_40.evalsig('q1')\n",
    "y_ss_40_2 = ss_40.evalsig('qbar2')\n",
    "x_ss_40_2 = ss_40.evalsig('q2')\n",
    "#*********************************\n",
    "ss_25=NgspiceData(\"ss_25.raw\")\n",
    "y_ss_25_1 = ss_25.evalsig('qbar1')\n",
    "x_ss_25_1 = ss_25.evalsig('q1')\n",
    "y_ss_25_2 = ss_25.evalsig('qbar2')\n",
    "x_ss_25_2 = ss_25.evalsig('q2')\n",
    "#**********************************\n",
    "ss_105=NgspiceData(\"ss_105.raw\")\n",
    "y_ss_105_1 = ss_105.evalsig('qbar1')\n",
    "x_ss_105_1 = ss_105.evalsig('q1')\n",
    "y_ss_105_2 = ss_105.evalsig('qbar2')\n",
    "x_ss_105_2 = ss_105.evalsig('q2')"
   ]
  },
  {
   "cell_type": "code",
   "execution_count": null,
   "metadata": {},
   "outputs": [],
   "source": [
    "# Library NOM\n",
    "plt.plot(x_nom_40_1,y_nom_40_1)\n",
    "plt.plot(x_nom_40_2,y_nom_40_2)\n",
    "#**********************\n",
    "plt.plot(x_nom_25_1,y_nom_25_1)\n",
    "plt.plot(x_nom_25_2,y_nom_25_2)\n",
    "#*********************\n",
    "plt.plot(x_nom_105_1,y_nom_105_1)\n",
    "plt.plot(x_nom_105_2,y_nom_105_2)\n",
    "\n",
    "# Library FF\n",
    "plt.plot(x_ff_40_1,y_ff_40_1)\n",
    "plt.plot(x_ff_40_2,y_ff_40_2)\n",
    "#**********************\n",
    "plt.plot(x_ff_25_1,y_ff_25_1)\n",
    "plt.plot(x_ff_25_2,y_ff_25_2)\n",
    "#*********************\n",
    "plt.plot(x_ff_105_1,y_ff_105_1)\n",
    "plt.plot(x_ff_105_2,y_ff_105_2)\n",
    "\n",
    "# Library ss\n",
    "plt.plot(x_ss_40_1,y_ss_40_1)\n",
    "plt.plot(x_ss_40_2,y_ss_40_2)\n",
    "#**********************\n",
    "plt.plot(x_ss_25_1,y_ss_25_1)\n",
    "plt.plot(x_ss_25_2,y_ss_25_2)\n",
    "#*********************\n",
    "plt.plot(x_ss_105_1,y_ss_105_1)\n",
    "plt.plot(x_ss_105_2,y_ss_105_2)\n"
   ]
  },
  {
   "cell_type": "code",
   "execution_count": null,
   "metadata": {},
   "outputs": [],
   "source": []
  }
 ],
 "metadata": {
  "kernelspec": {
   "display_name": "Python 3",
   "language": "python",
   "name": "python3"
  },
  "language_info": {
   "codemirror_mode": {
    "name": "ipython",
    "version": 3
   },
   "file_extension": ".py",
   "mimetype": "text/x-python",
   "name": "python",
   "nbconvert_exporter": "python",
   "pygments_lexer": "ipython3",
   "version": "3.7.6"
  },
  "widgets": {
   "application/vnd.jupyter.widget-state+json": {
    "state": {},
    "version_major": 2,
    "version_minor": 0
   }
  }
 },
 "nbformat": 4,
 "nbformat_minor": 4
}
