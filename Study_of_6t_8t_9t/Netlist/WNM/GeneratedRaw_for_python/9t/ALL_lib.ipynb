{
 "cells": [
  {
   "cell_type": "code",
   "execution_count": 1,
   "metadata": {},
   "outputs": [],
   "source": [
    "#import sys\n",
    "#sys.path.append(r\"C:\\Users\\dppat\\Pictures\\VLSI Specialization\\6t\")\n",
    "from ngspicedata import *\n",
    "from pylab import *\n",
    "import matplotlib.pyplot as plt"
   ]
  },
  {
   "cell_type": "code",
   "execution_count": 2,
   "metadata": {},
   "outputs": [],
   "source": [
    "\n",
    "\n",
    "# Library NOM ************************************************\n",
    "nom_40=NgspiceData(\"nom_40.raw\")\n",
    "y_nom_40_1 = nom_40.evalsig('qbar1')\n",
    "x_nom_40_1 = nom_40.evalsig('q1')\n",
    "y_nom_40_2 = nom_40.evalsig('qbar2')\n",
    "x_nom_40_2 = nom_40.evalsig('q2')\n",
    "#*********************************\n",
    "nom_25=NgspiceData(\"nom_25.raw\")\n",
    "y_nom_25_1 = nom_25.evalsig('qbar1')\n",
    "x_nom_25_1 = nom_25.evalsig('q1')\n",
    "y_nom_25_2 = nom_25.evalsig('qbar2')\n",
    "x_nom_25_2 = nom_25.evalsig('q2')\n",
    "#**********************************\n",
    "nom_105=NgspiceData(\"nom_105.raw\")\n",
    "y_nom_105_1 = nom_105.evalsig('qbar1')\n",
    "x_nom_105_1 = nom_105.evalsig('q1')\n",
    "y_nom_105_2 = nom_105.evalsig('qbar2')\n",
    "x_nom_105_2 = nom_105.evalsig('q2')\n",
    "\n",
    "# Library FF  ****************************************************\n",
    "ff_40=NgspiceData(\"ff_40.raw\")\n",
    "y_ff_40_1 = ff_40.evalsig('qbar1')\n",
    "x_ff_40_1 = ff_40.evalsig('q1')\n",
    "y_ff_40_2 = ff_40.evalsig('qbar2')\n",
    "x_ff_40_2 = ff_40.evalsig('q2')\n",
    "#*********************************\n",
    "ff_25=NgspiceData(\"ff_25.raw\")\n",
    "y_ff_25_1 = ff_25.evalsig('qbar1')\n",
    "x_ff_25_1 = ff_25.evalsig('q1')\n",
    "y_ff_25_2 = ff_25.evalsig('qbar2')\n",
    "x_ff_25_2 = ff_25.evalsig('q2')\n",
    "#**********************************\n",
    "ff_105=NgspiceData(\"ff_105.raw\")\n",
    "y_ff_105_1 = ff_105.evalsig('qbar1')\n",
    "x_ff_105_1 = ff_105.evalsig('q1')\n",
    "y_ff_105_2 = ff_105.evalsig('qbar2')\n",
    "x_ff_105_2 = ff_105.evalsig('q2')\n",
    "\n",
    "# Library SS *************************************************\n",
    "ss_40=NgspiceData(\"ss_40.raw\")\n",
    "y_ss_40_1 = ss_40.evalsig('qbar1')\n",
    "x_ss_40_1 = ss_40.evalsig('q1')\n",
    "y_ss_40_2 = ss_40.evalsig('qbar2')\n",
    "x_ss_40_2 = ss_40.evalsig('q2')\n",
    "#*********************************\n",
    "ss_25=NgspiceData(\"ss_25.raw\")\n",
    "y_ss_25_1 = ss_25.evalsig('qbar1')\n",
    "x_ss_25_1 = ss_25.evalsig('q1')\n",
    "y_ss_25_2 = ss_25.evalsig('qbar2')\n",
    "x_ss_25_2 = ss_25.evalsig('q2')\n",
    "#**********************************\n",
    "ss_105=NgspiceData(\"ss_105.raw\")\n",
    "y_ss_105_1 = ss_105.evalsig('qbar1')\n",
    "x_ss_105_1 = ss_105.evalsig('q1')\n",
    "y_ss_105_2 = ss_105.evalsig('qbar2')\n",
    "x_ss_105_2 = ss_105.evalsig('q2')"
   ]
  },
  {
   "cell_type": "code",
   "execution_count": 3,
   "metadata": {},
   "outputs": [
    {
     "data": {
      "text/plain": [
       "[<matplotlib.lines.Line2D at 0x16bd065cfc8>]"
      ]
     },
     "execution_count": 3,
     "metadata": {},
     "output_type": "execute_result"
    },
    {
     "data": {
      "image/png": "[encoded data removed]",
      "text/plain": [
       "<Figure size 432x288 with 1 Axes>"
      ]
     },
     "metadata": {
      "needs_background": "light"
     },
     "output_type": "display_data"
    }
   ],
   "source": [
    "# Library NOM\n",
    "plt.plot(x_nom_40_1,y_nom_40_1)\n",
    "plt.plot(x_nom_40_2,y_nom_40_2)\n",
    "#**********************\n",
    "plt.plot(x_nom_25_1,y_nom_25_1)\n",
    "plt.plot(x_nom_25_2,y_nom_25_2)\n",
    "#*********************\n",
    "plt.plot(x_nom_105_1,y_nom_105_1)\n",
    "plt.plot(x_nom_105_2,y_nom_105_2)\n",
    "\n",
    "# Library FF\n",
    "plt.plot(x_ff_40_1,y_ff_40_1)\n",
    "plt.plot(x_ff_40_2,y_ff_40_2)\n",
    "#**********************\n",
    "plt.plot(x_ff_25_1,y_ff_25_1)\n",
    "plt.plot(x_ff_25_2,y_ff_25_2)\n",
    "#*********************\n",
    "plt.plot(x_ff_105_1,y_ff_105_1)\n",
    "plt.plot(x_ff_105_2,y_ff_105_2)\n",
    "\n",
    "# Library ss\n",
    "plt.plot(x_ss_40_1,y_ss_40_1)\n",
    "plt.plot(x_ss_40_2,y_ss_40_2)\n",
    "#**********************\n",
    "plt.plot(x_ss_25_1,y_ss_25_1)\n",
    "plt.plot(x_ss_25_2,y_ss_25_2)\n",
    "#*********************\n",
    "plt.plot(x_ss_105_1,y_ss_105_1)\n",
    "plt.plot(x_ss_105_2,y_ss_105_2)\n"
   ]
  },
  {
   "cell_type": "code",
   "execution_count": null,
   "metadata": {},
   "outputs": [],
   "source": []
  }
 ],
 "metadata": {
  "kernelspec": {
   "display_name": "Python 3",
   "language": "python",
   "name": "python3"
  },
  "language_info": {
   "codemirror_mode": {
    "name": "ipython",
    "version": 3
   },
   "file_extension": ".py",
   "mimetype": "text/x-python",
   "name": "python",
   "nbconvert_exporter": "python",
   "pygments_lexer": "ipython3",
   "version": "3.7.6"
  },
  "widgets": {
   "application/vnd.jupyter.widget-state+json": {
    "state": {},
    "version_major": 2,
    "version_minor": 0
   }
  }
 },
 "nbformat": 4,
 "nbformat_minor": 4
}
